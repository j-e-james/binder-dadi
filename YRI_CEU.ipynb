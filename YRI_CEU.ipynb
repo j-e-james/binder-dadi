{
 "cells": [
  {
   "cell_type": "markdown",
   "metadata": {},
   "source": [
    "# DADI Jupyter notebook"
   ]
  },
  {
   "cell_type": "markdown",
   "metadata": {},
   "source": [
    "https://dadi.readthedocs.io/en/latest/user-guide/installation/"
   ]
  },
  {
   "cell_type": "markdown",
   "metadata": {},
   "source": [
    "git clone https://bitbucket.org/gutenkunstlab/dadi.git"
   ]
  },
  {
   "cell_type": "code",
   "execution_count": 1,
   "metadata": {},
   "outputs": [],
   "source": [
    "# Numpy is the numerical library dadi is built upon\n",
    "from numpy import array\n",
    "\n",
    "import dadi\n",
    "\n",
    "import dadi.NLopt_mod\n",
    "\n",
    "# In demographic_models.py, we've defined a custom model for this problem\n",
    "import demographic_models"
   ]
  },
  {
   "cell_type": "code",
   "execution_count": 2,
   "metadata": {},
   "outputs": [],
   "source": [
    "# Load the data\n",
    "data = dadi.Spectrum.from_file('YRI_CEU.fs')\n",
    "ns = data.sample_sizes\n",
    "\n",
    "# These are the grid point settings will use for extrapolation.\n",
    "pts_l = [40,50,60]\n",
    "\n",
    "# The Demographics1D and Demographics2D modules contain a few simple models,\n",
    "# mostly as examples. We could use one of those.\n",
    "func = dadi.Demographics2D.split_mig\n",
    "# Instead, we'll work with our custom model\n",
    "func = demographic_models.prior_onegrow_mig"
   ]
  },
  {
   "cell_type": "code",
   "execution_count": 3,
   "metadata": {},
   "outputs": [],
   "source": [
    "# Now let's optimize parameters for this model.\n",
    "\n",
    "# The upper_bound and lower_bound lists are for use in optimization.\n",
    "# Occasionally the optimizer will try wacky parameter values. We in particular\n",
    "# want to exclude values with very long times, very small population sizes, or\n",
    "# very high migration rates, as they will take a long time to evaluate.\n",
    "# Parameters are: (nu1F, nu2B, nu2F, m, Tp, T)\n",
    "upper_bound = [100, 100, 100, 10, 3, 3]\n",
    "lower_bound = [1e-2, 1e-2, 1e-2, 0, 0, 0]\n"
   ]
  },
  {
   "cell_type": "code",
   "execution_count": 6,
   "metadata": {},
   "outputs": [
    {
     "name": "stdout",
     "output_type": "stream",
     "text": [
      "Beginning optimization ************************************************\n",
      "444     , -2994.9     , array([ 2.23629    ,  0.338396   ,  1.94893    ,  1.9978     ,  0.37208    ,  0.267781   ])\n",
      "450     , -1756.15    , array([ 2.23629    ,  0.0569137  ,  1.94893    ,  1.9978     ,  0.37208    ,  0.267781   ])\n",
      "456     , -1481.47    , array([ 2.16958    ,  0.238663   ,  0.237907   ,  2.53932    ,  0.367903   ,  0.260062   ])\n",
      "462     , -1232.72    , array([ 2.21326    ,  0.198777   ,  0.462331   ,  2.01746    ,  0.398579   ,  0.269341   ])\n",
      "468     , -1208.86    , array([ 2.04841    ,  0.205734   ,  0.600797   ,  1.88672    ,  0.367856   ,  0.263658   ])\n",
      "474     , -1157.84    , array([ 1.72164    ,  0.198287   ,  0.593198   ,  1.82744    ,  0.394132   ,  0.26446    ])\n",
      "480     , -1143.27    , array([ 1.61023    ,  0.19565    ,  0.53423    ,  1.83555    ,  0.393576   ,  0.256206   ])\n",
      "486     , -1140.45    , array([ 1.61267    ,  0.195256   ,  0.512067   ,  1.82809    ,  0.392724   ,  0.257904   ])\n",
      "492     , -1140.45    , array([ 1.59942    ,  0.196688   ,  0.53007    ,  1.80981    ,  0.397104   ,  0.257565   ])\n",
      "498     , -1138.85    , array([ 1.60214    ,  0.198732   ,  0.520782   ,  1.80368    ,  0.396034   ,  0.254859   ])\n",
      "504     , -1135.37    , array([ 1.62618    ,  0.204218   ,  0.520892   ,  1.77981    ,  0.398115   ,  0.243542   ])\n",
      "510     , -1132.3     , array([ 1.677      ,  0.219312   ,  0.504105   ,  1.72201    ,  0.408885   ,  0.219731   ])\n",
      "516     , -1128.45    , array([ 1.67709    ,  0.220242   ,  0.501889   ,  1.68425    ,  0.406051   ,  0.220507   ])\n",
      "522     , -1127.71    , array([ 1.6788     ,  0.220277   ,  0.505907   ,  1.67769    ,  0.403975   ,  0.220533   ])\n",
      "528     , -1119.83    , array([ 1.72581    ,  0.215773   ,  0.530912   ,  1.62789    ,  0.371831   ,  0.222796   ])\n",
      "534     , -1107.48    , array([ 1.74583    ,  0.215098   ,  0.615522   ,  1.28767    ,  0.282795   ,  0.214766   ])\n",
      "540     , -1103.71    , array([ 1.82052    ,  0.217746   ,  0.603909   ,  1.34591    ,  0.282036   ,  0.212385   ])\n",
      "546     , -1103.35    , array([ 1.82511    ,  0.217254   ,  0.604945   ,  1.33758    ,  0.280824   ,  0.2099     ])\n",
      "552     , -1103.25    , array([ 1.82661    ,  0.217016   ,  0.610552   ,  1.33963    ,  0.280449   ,  0.210026   ])\n",
      "558     , -1103.19    , array([ 1.82768    ,  0.216575   ,  0.609246   ,  1.34274    ,  0.280308   ,  0.210313   ])\n",
      "564     , -1102.75    , array([ 1.83383    ,  0.214876   ,  0.615729   ,  1.34037    ,  0.281027   ,  0.209568   ])\n",
      "570     , -1100.74    , array([ 1.83227    ,  0.206555   ,  0.636845   ,  1.32154    ,  0.281082   ,  0.207984   ])\n",
      "576     , -1082.08    , array([ 1.99834    ,  0.117674   ,  0.886842   ,  1.19216    ,  0.316129   ,  0.149415   ])\n",
      "582     , -1077.95    , array([ 1.87108    ,  0.103818   ,  0.995527   ,  1.27509    ,  0.320758   ,  0.148367   ])\n",
      "588     , -1075.96    , array([ 1.88775    ,  0.105279   ,  0.989621   ,  1.23783    ,  0.325192   ,  0.144695   ])\n",
      "594     , -1074.6     , array([ 1.89575    ,  0.0956514  ,  1.068      ,  1.22824    ,  0.329031   ,  0.132242   ])\n",
      "600     , -1072.12    , array([ 1.87491    ,  0.0945974  ,  1.06309    ,  1.1387     ,  0.324275   ,  0.127266   ])\n",
      "606     , -1071.21    , array([ 1.8533     ,  0.0923117  ,  1.10796    ,  1.15247    ,  0.324904   ,  0.127083   ])\n",
      "612     , -1071.01    , array([ 1.85052    ,  0.092643   ,  1.1057     ,  1.13102    ,  0.324981   ,  0.125633   ])\n",
      "618     , -1070.49    , array([ 1.838      ,  0.0895362  ,  1.15381    ,  1.14212    ,  0.327203   ,  0.125905   ])\n",
      "624     , -1070.16    , array([ 1.81493    ,  0.0879765  ,  1.17679    ,  1.10739    ,  0.327465   ,  0.121705   ])\n",
      "630     , -1069.83    , array([ 1.82083    ,  0.0863115  ,  1.20439    ,  1.1105     ,  0.327614   ,  0.121269   ])\n",
      "636     , -1069.49    , array([ 1.81118    ,  0.0840209  ,  1.26657    ,  1.10067    ,  0.330867   ,  0.119274   ])\n",
      "642     , -1069.07    , array([ 1.81307    ,  0.0815701  ,  1.29292    ,  1.08236    ,  0.329403   ,  0.11775    ])\n",
      "648     , -1068.98    , array([ 1.81548    ,  0.0779408  ,  1.34841    ,  1.07492    ,  0.330938   ,  0.115269   ])\n",
      "654     , -1068.68    , array([ 1.82167    ,  0.078411   ,  1.35656    ,  1.07229    ,  0.331095   ,  0.115443   ])\n",
      "660     , -1068.18    , array([ 1.87763    ,  0.0827925  ,  1.33566    ,  1.06446    ,  0.33163    ,  0.119092   ])\n",
      "666     , -1068.01    , array([ 1.8574     ,  0.0793954  ,  1.36721    ,  1.0482     ,  0.335781   ,  0.117241   ])\n",
      "672     , -1067.37    , array([ 1.8687     ,  0.0807966  ,  1.39464    ,  1.01356    ,  0.334924   ,  0.11728    ])\n",
      "678     , -1067.26    , array([ 1.87797    ,  0.0804293  ,  1.41853    ,  0.99412    ,  0.335764   ,  0.117114   ])\n",
      "684     , -1066.99    , array([ 1.87992    ,  0.0781941  ,  1.53273    ,  0.960108   ,  0.336095   ,  0.117236   ])\n",
      "Finshed optimization **************************************************\n"
     ]
    }
   ],
   "source": [
    "# This is our initial guess for the parameters, which is somewhat arbitrary.\n",
    "p0 = [2,0.1,2,1,0.2,0.2]\n",
    "# Make the extrapolating version of our demographic model function.\n",
    "func_ex = dadi.Numerics.make_extrap_log_func(func)\n",
    "\n",
    "# Perturb our parameters before optimization. This does so by taking each\n",
    "# parameter a up to a factor of two up or down.\n",
    "p0 = dadi.Misc.perturb_params(p0, fold=1, upper_bound=upper_bound,\n",
    "                              lower_bound=lower_bound)\n",
    "# Do the optimization. By default we assume that theta is a free parameter,\n",
    "# since it's trivial to find given the other parameters. If you want to fix\n",
    "# theta, add a multinom=False to the call.\n",
    "# The maxtime  argument here shuts the optimization down after a short time.\n",
    "# For real runs, you won't want this restriction.\n",
    "# You will also want to run optimization several times\n",
    "# using multiple sets of intial parameters, to be confident you've actually\n",
    "# found the true maximum likelihood parameters.\n",
    "print('Beginning optimization ************************************************')\n",
    "popt = dadi.NLopt_mod.opt(p0, data, func_ex, pts_l, \n",
    "                                   lower_bound=lower_bound,\n",
    "                                   upper_bound=upper_bound,\n",
    "                                 maxtime=120, verbose=len(p0))\n",
    "# The verbose argument controls how often progress of the optimizer should be\n",
    "# printed. It's useful to keep track of optimization process.\n",
    "print('Finshed optimization **************************************************')"
   ]
  },
  {
   "cell_type": "code",
   "execution_count": 7,
   "metadata": {},
   "outputs": [
    {
     "name": "stdout",
     "output_type": "stream",
     "text": [
      "Best-fit parameters: [1.88, 0.0724, 1.764, 0.93, 0.363, 0.112]\n",
      "Maximum log composite likelihood: -1066.2652456575374\n",
      "Optimal value of theta: 2743.963580382483\n"
     ]
    },
    {
     "name": "stderr",
     "output_type": "stream",
     "text": [
      "/opt/conda/lib/python3.8/site-packages/dadi/Plotting.py:167: MatplotlibDeprecationWarning: You are modifying the state of a globally registered colormap. In future versions, you will not be able to modify a registered colormap in-place. To remove this warning, you can make a copy of the colormap first. cmap = copy.copy(mpl.cm.get_cmap(\"hsv\"))\n",
      "  pylab.cm.hsv.set_under('w')\n"
     ]
    },
    {
     "ename": "AttributeError",
     "evalue": "module 'dadi' has no attribute 'Godambe'",
     "output_type": "error",
     "traceback": [
      "\u001b[0;31m---------------------------------------------------------------------------\u001b[0m",
      "\u001b[0;31mAttributeError\u001b[0m                            Traceback (most recent call last)",
      "\u001b[0;32m<ipython-input-7-58b5ac6ac577>\u001b[0m in \u001b[0;36m<module>\u001b[0;34m\u001b[0m\n\u001b[1;32m     27\u001b[0m all_boot = [dadi.Spectrum.from_file('bootstraps/{0:02d}.fs'.format(ii)) \n\u001b[1;32m     28\u001b[0m             for ii in range(100)]\n\u001b[0;32m---> 29\u001b[0;31m uncerts = dadi.Godambe.GIM_uncert(func_ex, pts_l, all_boot, popt, data, \n\u001b[0m\u001b[1;32m     30\u001b[0m                                   multinom=True)\n\u001b[1;32m     31\u001b[0m \u001b[0;31m# uncert contains the estimated standard deviations of each parameter, with\u001b[0m\u001b[0;34m\u001b[0m\u001b[0;34m\u001b[0m\u001b[0;34m\u001b[0m\u001b[0m\n",
      "\u001b[0;31mAttributeError\u001b[0m: module 'dadi' has no attribute 'Godambe'"
     ]
    },
    {
     "data": {
      "image/png": "[encoded data removed]",
      "text/plain": [
       "<Figure size 432x288 with 6 Axes>"
      ]
     },
     "metadata": {
      "needs_background": "light"
     },
     "output_type": "display_data"
    }
   ],
   "source": [
    "# These are the actual best-fit model parameters, which we found through\n",
    "# longer optimizations and confirmed by running multiple optimizations.\n",
    "# We'll work with them through the rest of this script.\n",
    "popt = [1.880, 0.0724, 1.764, 0.930, 0.363, 0.112]\n",
    "print('Best-fit parameters: {0}'.format(popt))\n",
    "\n",
    "# Calculate the best-fit model AFS.\n",
    "model = func_ex(popt, ns, pts_l)\n",
    "# Likelihood of the data given the model AFS.\n",
    "ll_model = dadi.Inference.ll_multinom(model, data)\n",
    "print('Maximum log composite likelihood: {0}'.format(ll_model))\n",
    "# The optimal value of theta given the model.\n",
    "theta = dadi.Inference.optimal_sfs_scaling(model, data)\n",
    "print('Optimal value of theta: {0}'.format(theta))\n",
    "\n",
    "# Plot a comparison of the resulting fs with the data.\n",
    "import pylab\n",
    "pylab.figure(1)\n",
    "dadi.Plotting.plot_2d_comp_multinom(model, data, vmin=1, resid_range=3,\n",
    "                                    pop_ids =('YRI','CEU'), show=False)\n",
    "# Save the figure\n",
    "pylab.savefig('YRI_CEU.png', dpi=250)\n",
    "\n",
    "# To use the GIM approach, we need to have spectra from bootstrapping our \n",
    "# data.  Let's load the ones we've provided for the example.  \n",
    "# (We're using Python list comprehension syntax to do this in one line.)\n",
    "all_boot = [dadi.Spectrum.from_file('bootstraps/{0:02d}.fs'.format(ii)) \n",
    "            for ii in range(100)]\n",
    "uncerts = dadi.Godambe.GIM_uncert(func_ex, pts_l, all_boot, popt, data, \n",
    "                                  multinom=True)\n",
    "# uncert contains the estimated standard deviations of each parameter, with\n",
    "# theta as the final entry in the list.\n",
    "print('Estimated parameter standard deviations from GIM: {0}'.format(uncerts))\n",
    "\n",
    "# For comparison, we can estimate uncertainties with the Fisher Information\n",
    "# Matrix, which doesn't account for linkage in the data and thus underestimates\n",
    "# uncertainty. (Although it's a fine approach if you think your data is truly\n",
    "# unlinked.)\n",
    "uncerts_fim = dadi.Godambe.FIM_uncert(func_ex, pts_l, popt, data, multinom=True)\n",
    "print('Estimated parameter standard deviations from FIM: {0}'.format(uncerts_fim))\n",
    "\n",
    "print('Factors by which FIM underestimates parameter uncertainties: {0}'.format(uncerts/uncerts_fim))\n",
    "\n",
    "# What if we fold the data?\n",
    "# These are the optimal parameters when the spectrum is folded. \n",
    "popt_fold = [1.910, 0.074, 1.787, 0.914, 0.439, 0.114]\n",
    "all_boot_fold = [_.fold() for _ in all_boot]\n",
    "uncerts_folded = dadi.Godambe.GIM_uncert(func_ex, pts_l, all_boot_fold,\n",
    "                                         popt_fold, data.fold(), multinom=True)\n",
    "print('Folding increases parameter uncertainties by factors of: {0}'.format(uncerts_folded/uncerts))\n",
    "\n",
    "# Let's do a likelihood-ratio test comparing models with and without migration.\n",
    "# The no migration model is implemented as \n",
    "# demographic_models.prior_onegrow_nomig\n",
    "func_nomig = demographic_models.prior_onegrow_nomig\n",
    "func_ex_nomig = dadi.Numerics.make_extrap_log_func(func_nomig)\n",
    "# These are the best-fit parameters, which we found by multiple optimizations\n",
    "popt_nomig = array([ 1.897,  0.0388,  9.677,  0.395,  0.070])\n",
    "model_nomig = func_ex_nomig(popt_nomig, ns, pts_l)\n",
    "ll_nomig = dadi.Inference.ll_multinom(model_nomig, data)\n",
    "\n",
    "# Since LRT evaluates the complex model using the best-fit parameters from the\n",
    "# simple model, we need to create list of parameters for the complex model\n",
    "# using the simple (no-mig) best-fit params.  Since evalution is done with more\n",
    "# complex model, need to insert zero migration value at corresponding migration\n",
    "# parameter index in complex model. And we need to tell the LRT adjust function\n",
    "# that the 3rd parameter (counting from 0) is the nested one.\n",
    "p_lrt = [1.897,  0.0388,  9.677, 0, 0.395,  0.070]\n",
    "\n",
    "adj = dadi.Godambe.LRT_adjust(func_ex, pts_l, all_boot, p_lrt, data, \n",
    "                              nested_indices=[3], multinom=True)\n",
    "D_adj = adj*2*(ll_model - ll_nomig)\n",
    "print('Adjusted D statistic: {0:.4f}'.format(D_adj))\n",
    "\n",
    "# Because this is test of a parameter on the boundary of parameter space \n",
    "# (m cannot be less than zero), our null distribution is an even proportion \n",
    "# of chi^2 distributions with 0 and 1 d.o.f. To evaluate the p-value, we use the\n",
    "# point percent function for a weighted sum of chi^2 dists.\n",
    "pval = dadi.Godambe.sum_chi2_ppf(D_adj, weights=(0.5,0.5))\n",
    "print('p-value for rejecting no-migration model: {0:.4f}'.format(pval))\n",
    "\n",
    "# This ensures that the figures pop up. It may be unecessary if you are using\n",
    "# ipython.\n",
    "pylab.show()"
   ]
  },
  {
   "cell_type": "markdown",
   "metadata": {},
   "source": []
  },
  {
   "cell_type": "code",
   "execution_count": 8,
   "metadata": {},
   "outputs": [],
   "source": [
    "import ipywidgets as widgets"
   ]
  },
  {
   "cell_type": "code",
   "execution_count": 9,
   "metadata": {},
   "outputs": [
    {
     "data": {
      "application/vnd.jupyter.widget-view+json": {
       "model_id": "f592afab97c941eaa3f703cefef4523d",
       "version_major": 2,
       "version_minor": 0
      },
      "text/plain": [
       "FloatSlider(value=7.5, continuous_update=False, description='Test:', max=10.0, readout_format='.1f')"
      ]
     },
     "metadata": {},
     "output_type": "display_data"
    }
   ],
   "source": [
    "widgets.FloatSlider(\n",
    "    value=7.5,\n",
    "    min=0,\n",
    "    max=10.0,\n",
    "    step=0.1,\n",
    "    description='Test:',\n",
    "    disabled=False,\n",
    "    continuous_update=False,\n",
    "    orientation='horizontal',\n",
    "    readout=True,\n",
    "    readout_format='.1f',\n",
    ")"
   ]
  },
  {
   "cell_type": "markdown",
   "metadata": {},
   "source": []
  },
  {
   "cell_type": "markdown",
   "metadata": {},
   "source": [
    "# Jupyter Interact Controls\n",
    "https://ipywidgets.readthedocs.io/en/stable/examples/Widget%20List.html"
   ]
  },
  {
   "cell_type": "code",
   "execution_count": null,
   "metadata": {},
   "outputs": [],
   "source": [
    "https://ipywidgets.readthedocs.io/en/stable/examples/Output%20Widget.html"
   ]
  },
  {
   "cell_type": "code",
   "execution_count": null,
   "metadata": {},
   "outputs": [],
   "source": [
    "https://towardsdatascience.com/bring-your-jupyter-notebook-to-life-with-interactive-widgets-bc12e03f0916"
   ]
  }
 ],
 "metadata": {
  "kernelspec": {
   "display_name": "Python 3",
   "language": "python",
   "name": "python3"
  },
  "language_info": {
   "codemirror_mode": {
    "name": "ipython",
    "version": 3
   },
   "file_extension": ".py",
   "mimetype": "text/x-python",
   "name": "python",
   "nbconvert_exporter": "python",
   "pygments_lexer": "ipython3",
   "version": "3.8.5"
  }
 },
 "nbformat": 4,
 "nbformat_minor": 4
}
