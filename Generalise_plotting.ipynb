{
 "cells": [
  {
   "cell_type": "code",
   "execution_count": 1,
   "metadata": {},
   "outputs": [],
   "source": [
    "import dadi\n",
    "import ipywidgets as widgets\n",
    "from ipywidgets import FloatSlider, interact_manual, interact, HBox, Tab, Button, ButtonStyle, Layout\n",
    "\n",
    "from IPython.display import display\n",
    "from Models import get_dadi_model_func, get_dadi_model_params\n",
    "import pickle"
   ]
  },
  {
   "cell_type": "code",
   "execution_count": 3,
   "metadata": {},
   "outputs": [],
   "source": [
    "# Upload data\n",
    "upload = widgets.FileUpload(\n",
    "               accept='',  # Accepted file extension e.g. '.fs'\n",
    "               multiple=False  # True to accept multiple files upload else False\n",
    "           )"
   ]
  },
  {
   "cell_type": "code",
   "execution_count": 4,
   "metadata": {},
   "outputs": [],
   "source": [
    "#Select grid size\n",
    "a = widgets.BoundedIntText(\n",
    "    value=40,\n",
    "    min=1,\n",
    "    max=10000,\n",
    "    step=1,\n",
    "    description='Grid-x:',\n",
    "    disabled=False\n",
    ")\n",
    "b = widgets.BoundedIntText(\n",
    "    value=50,\n",
    "    min=1,\n",
    "    max=10000,\n",
    "    step=1,\n",
    "    description='Grid-y:',\n",
    "    disabled=False\n",
    ")\n",
    "c = widgets.BoundedIntText(\n",
    "    value=60,\n",
    "    min=1,\n",
    "    max=10000,\n",
    "    step=1,\n",
    "    description='Grid-z:',\n",
    "    disabled=False\n",
    ")\n",
    "\n",
    "grid_ui = widgets.HBox([a, b, c])\n"
   ]
  },
  {
   "cell_type": "code",
   "execution_count": 5,
   "metadata": {},
   "outputs": [],
   "source": [
    "#Select demographic models\n",
    "model = widgets.Dropdown(\n",
    "    options=['bottlegrowth_1d', 'growth_1d', 'snm_1d', 'three_epoch_1d', 'two_epoch_1d',\n",
    "             'bottlegrowth_2d', 'bottlegrowth_split', 'bottlegrowth_split_mig', 'IM', 'IM_pre', 'snm_2d', 'split_mig', 'split_asym_mig'],\n",
    "    description='Model:',\n",
    ")\n"
   ]
  },
  {
   "cell_type": "markdown",
   "metadata": {},
   "source": [
    "Upload frequency spectrum data, select grid size, select demographic model"
   ]
  },
  {
   "cell_type": "code",
   "execution_count": 6,
   "metadata": {},
   "outputs": [
    {
     "data": {
      "application/vnd.jupyter.widget-view+json": {
       "model_id": "85f43e7e6d7a4244ada64df21c84661f",
       "version_major": 2,
       "version_minor": 0
      },
      "text/plain": [
       "Tab(children=(FileUpload(value={}, description='Upload'), HBox(children=(BoundedIntText(value=40, description=…"
      ]
     },
     "metadata": {},
     "output_type": "display_data"
    }
   ],
   "source": [
    "# layout widgets\n",
    "tab = widgets.Tab()\n",
    "tab_contents = ['File upload', 'Grid points', 'Model']\n",
    "tab.children = [upload, grid_ui, model]\n",
    "for title, (index, _) in zip(tab_contents, enumerate(tab.children)):\n",
    "    tab.set_title(index, title)\n",
    "tab"
   ]
  },
  {
   "cell_type": "code",
   "execution_count": 7,
   "metadata": {},
   "outputs": [],
   "source": [
    "# Load the data from user input\n",
    "uploaded_filename = next(iter(upload.value))\n",
    "content = upload.value[uploaded_filename]['content']\n",
    "with open(uploaded_filename, 'wb') as f: f.write(content)\n",
    "# Read data into dadi\n",
    "data = dadi.Spectrum.from_file(uploaded_filename)\n",
    "ns = data.sample_sizes\n",
    "\n",
    "# These are the grid point settings will use for extrapolation.\n",
    "pts_l = [a.value, b.value, c.value]\n",
    "\n",
    "func = get_dadi_model_func(model.value)\n",
    "# Make the extrapolating version of our demographic model function.\n",
    "func_ex = dadi.Numerics.make_extrap_log_func(func)"
   ]
  },
  {
   "cell_type": "markdown",
   "metadata": {},
   "source": [
    "Select upper and lower bounds"
   ]
  },
  {
   "cell_type": "code",
   "execution_count": 8,
   "metadata": {},
   "outputs": [
    {
     "data": {
      "application/vnd.jupyter.widget-view+json": {
       "model_id": "f2b4d66703b04a1fbec030142fa105e0",
       "version_major": 2,
       "version_minor": 0
      },
      "text/plain": [
       "HBox(children=(VBox(children=(Button(description='Lower bounds', layout=Layout(grid_area='header', width='auto…"
      ]
     },
     "metadata": {},
     "output_type": "display_data"
    }
   ],
   "source": [
    "params = get_dadi_model_params(model.value)\n",
    "\n",
    "# upper bounds sliders\n",
    "upper_sliders = []\n",
    "for p in params:\n",
    "    if p == 's':\n",
    "        s = widgets.BoundedFloatText(\n",
    "            value=0.5,\n",
    "            min=0,\n",
    "            max=1,\n",
    "            step=0.1,\n",
    "            description=p+':',\n",
    "        )\n",
    "    else:\n",
    "        s = widgets.BoundedFloatText(\n",
    "                value=10,\n",
    "                min=0,\n",
    "                max=10000,\n",
    "                step=0.1,\n",
    "                description=p+':',\n",
    "        )\n",
    "    upper_sliders.append(s)\n",
    "    \n",
    "upper_ui = widgets.VBox(upper_sliders)\n",
    "\n",
    "# lower bounds sliders\n",
    "lower_sliders = []\n",
    "for p in params:\n",
    "    if p == 's':\n",
    "        s = widgets.BoundedFloatText(\n",
    "            value=0.5,\n",
    "            min=0,\n",
    "            max=1,\n",
    "            step=0.1,\n",
    "            description=p+':',\n",
    "        )\n",
    "    else:\n",
    "        s = widgets.BoundedFloatText(\n",
    "                value=0,\n",
    "                min=0,\n",
    "                max=10000,\n",
    "                step=0.1,\n",
    "                description=p+':',\n",
    "        )\n",
    "    lower_sliders.append(s)\n",
    "    \n",
    "lower_ui = widgets.VBox(lower_sliders)\n",
    "\n",
    "# layout upper and lower bouunds\n",
    "header  = Button(description='Lower bounds',\n",
    "                 layout=Layout(width='auto', grid_area='header'),\n",
    "                 style=ButtonStyle(button_color='lightblue'))\n",
    "lower_ui = widgets.VBox([header, lower_ui])\n",
    "\n",
    "header  = Button(description='Upper bounds',\n",
    "                 layout=Layout(width='auto', grid_area='header'),\n",
    "                 style=ButtonStyle(button_color='lightblue'))\n",
    "upper_ui = widgets.VBox([header, upper_ui])\n",
    "\n",
    "\n",
    "widgets.HBox([lower_ui, upper_ui])\n"
   ]
  },
  {
   "cell_type": "code",
   "execution_count": 9,
   "metadata": {},
   "outputs": [],
   "source": [
    "lower_bound = []\n",
    "for s in lower_sliders:\n",
    "    lower_bound.append(s.value)\n",
    "\n",
    "upper_bound = []\n",
    "for s in upper_sliders:\n",
    "    upper_bound.append(s.value)\n"
   ]
  },
  {
   "cell_type": "markdown",
   "metadata": {},
   "source": [
    "Interactive plots to choose initial p0"
   ]
  },
  {
   "cell_type": "code",
   "execution_count": 10,
   "metadata": {},
   "outputs": [
    {
     "data": {
      "application/vnd.jupyter.widget-view+json": {
       "model_id": "27f0418dd4c64f89a6d3b80406973941",
       "version_major": 2,
       "version_minor": 0
      },
      "text/plain": [
       "interactive(children=(FloatSlider(value=0.5, description='nu1:', max=10.0), FloatSlider(value=0.5, description…"
      ]
     },
     "metadata": {},
     "output_type": "display_data"
    }
   ],
   "source": [
    "def plot_func_2d(**sliders_dict):    \n",
    "    p0 = [x for x in sliders_dict.values()]\n",
    "    print('Here are your model ('+model.value+') parameters:')\n",
    "    print(p0)\n",
    "    test_model = func_ex(p0, ns, pts_l)\n",
    "    dadi.Plotting.plot_2d_comp_multinom(test_model, data, vmin=1, resid_range=3, show=True)\n",
    "\n",
    "def plot_func_1d(**sliders_dict):\n",
    "    p0 = [x for x in sliders_dict.values()]\n",
    "    print('Here are your model ('+model.value+') parameters:')\n",
    "    print(p0)\n",
    "    test_model = func_ex(p0, ns, pts_l)\n",
    "    dadi.Plotting.plot_1d_comp_multinom(test_model, data, vmin=1, resid_range=3, show=True)\n",
    "\n",
    "    \n",
    "sliders_dict = {}\n",
    "for p, l, u in zip(params, lower_bound, upper_bound):\n",
    "    sliders_dict[p+':'] = FloatSlider(\n",
    "        value=0.5,\n",
    "        min=l,\n",
    "        max=u,\n",
    "        step=0.1,\n",
    "    )\n",
    "\n",
    "if '1d' not in model.value:\n",
    "    interact_manual(plot_func_2d, **sliders_dict)\n",
    "else:\n",
    "    interact_manual(plot_func_1d, **sliders_dict)\n",
    "    "
   ]
  },
  {
   "cell_type": "code",
   "execution_count": 11,
   "metadata": {},
   "outputs": [
    {
     "name": "stdout",
     "output_type": "stream",
     "text": [
      "What file name do you want to save you demographic model information under?\n"
     ]
    },
    {
     "data": {
      "application/vnd.jupyter.widget-view+json": {
       "model_id": "a5358af25fc44f4892d0cf47a095525a",
       "version_major": 2,
       "version_minor": 0
      },
      "text/plain": [
       "interactive(children=(Text(value='demo_params.bpkl', description='Filename'), Button(description='Run Interact…"
      ]
     },
     "metadata": {},
     "output_type": "display_data"
    },
    {
     "data": {
      "text/plain": [
       "<function __main__.save_params(Filename)>"
      ]
     },
     "execution_count": 11,
     "metadata": {},
     "output_type": "execute_result"
    }
   ],
   "source": [
    "p0 = []\n",
    "for p in params:\n",
    "    p0.append(sliders_dict[p+':'].value)\n",
    "dic = {\n",
    "    'params':p0,\n",
    "    'demographic_model':func,\n",
    "    'sample_sizes':ns,\n",
    "    'gird_points':pts_l,\n",
    "    'lower_bound':lower_bound,\n",
    "    'upper_bound':upper_bound,\n",
    "}\n",
    "def save_params(Filename):\n",
    "    print(\"Saving demographic model information as: \"+Filename)\n",
    "    fid=open(Filename,'wb')\n",
    "    pickle.dump(dic, fid, 2)\n",
    "    fid.close()\n",
    "print('What file name do you want to save you demographic model information under?')\n",
    "interact_manual(save_params, Filename='demo_params.bpkl')"
   ]
  },
  {
   "cell_type": "code",
   "execution_count": 12,
   "metadata": {},
   "outputs": [
    {
     "name": "stdout",
     "output_type": "stream",
     "text": [
      "{'params': [1.7, 1.1, 0.9, 1.6], 'demographic_model': <function split_mig at 0x11f271c80>, 'sample_sizes': array([20, 20]), 'gird_points': [40, 50, 60], 'lower_bound': [0.0, 0.0, 0.0, 0.0], 'upper_bound': [10.0, 10.0, 10.0, 10.0]}\n"
     ]
    }
   ],
   "source": []
  },
  {
   "cell_type": "code",
   "execution_count": null,
   "metadata": {},
   "outputs": [],
   "source": []
  }
 ],
 "metadata": {
  "kernelspec": {
   "display_name": "Python 3",
   "language": "python",
   "name": "python3"
  },
  "language_info": {
   "codemirror_mode": {
    "name": "ipython",
    "version": 3
   },
   "file_extension": ".py",
   "mimetype": "text/x-python",
   "name": "python",
   "nbconvert_exporter": "python",
   "pygments_lexer": "ipython3",
   "version": "3.7.3"
  }
 },
 "nbformat": 4,
 "nbformat_minor": 5
}
